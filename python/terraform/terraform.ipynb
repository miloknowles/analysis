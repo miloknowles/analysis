{
 "cells": [
  {
   "cell_type": "code",
   "execution_count": 1,
   "metadata": {},
   "outputs": [],
   "source": [
    "import numpy as np\n",
    "import matplotlib.pyplot as plt\n",
    "import seaborn as sns\n",
    "\n",
    "CH4_KG_PER_KCF = 19.17"
   ]
  },
  {
   "cell_type": "code",
   "execution_count": 2,
   "metadata": {},
   "outputs": [],
   "source": [
    "# Set matplotlib font:\n",
    "plt.rcParams['font.family'] = 'Helvetica Neue'"
   ]
  },
  {
   "cell_type": "code",
   "execution_count": null,
   "metadata": {},
   "outputs": [],
   "source": [
    "def terraform_cost(usd_per_kg_co2: float, usd_per_kg_h2: float) -> float:\n",
    "  \"\"\"Returns the cost of Terraform methane in $/kg.\"\"\"\n",
    "  kg_co2_per_kg_ch4 = 2.74\n",
    "  kg_h2_per_kg_ch4 = 0.251\n",
    "  cost_scale_factor = 1.195\n",
    "\n",
    "  co2_cost = usd_per_kg_co2 * kg_co2_per_kg_ch4\n",
    "  h2_cost = usd_per_kg_h2 * kg_h2_per_kg_ch4\n",
    "  total_cost = (co2_cost + h2_cost) * cost_scale_factor\n",
    "\n",
    "  return total_cost\n",
    "\n",
    "res1 = terraform_cost(78/1000, 0.89)\n",
    "print(res1)"
   ]
  },
  {
   "cell_type": "code",
   "execution_count": null,
   "metadata": {},
   "outputs": [],
   "source": [
    "x_axis_values = np.linspace(78.0, 250, 5)\n",
    "y_axis_values = np.linspace(0.89, 2.5, 5)\n",
    "\n",
    "def graph(x_axis_values, y_axis_values, units: str):\n",
    "  if units not in [\"kg\", \"kcf\"]:\n",
    "    raise ValueError(\"units must be 'kg' or 'kcf'\")\n",
    "\n",
    "  X, Y = np.meshgrid(x_axis_values, y_axis_values)\n",
    "\n",
    "  Z = np.zeros_like(X)\n",
    "  for i in range(X.shape[0]):\n",
    "    for j in range(X.shape[1]):\n",
    "      co2_price_per_kg = X[i, j] / 1000\n",
    "      h2_price_per_kg = Y[i, j]\n",
    "      cost_per_kg = terraform_cost(co2_price_per_kg, h2_price_per_kg)\n",
    "\n",
    "      if units == \"kcf\":\n",
    "        cost_per_kcf = cost_per_kg * CH4_KG_PER_KCF\n",
    "        Z[i, j] = cost_per_kcf\n",
    "      else:\n",
    "        Z[i, j] = cost_per_kg\n",
    "\n",
    "  fig, ax = plt.subplots()\n",
    "  c = ax.pcolormesh(X, Y, Z, cmap='YlOrRd')\n",
    "\n",
    "  # fig.colorbar(c, ax=ax)\n",
    "  plt.xlabel('$/kg CO2 (Direct Air Capture)')\n",
    "  plt.ylabel('$/kg H2 (Electrolysis)')\n",
    "\n",
    "  # Make the title bold:\n",
    "  plt.title('Cost of Terraform Industries Green Methane', fontweight='bold')\n",
    "\n",
    "  plt.xticks(x_axis_values)\n",
    "  plt.yticks(y_axis_values)\n",
    "\n",
    "  # Format the x and y labels to include a $ sign:\n",
    "  ax.get_xaxis().set_major_formatter(plt.FuncFormatter(lambda x, loc: f'${x:.0f}'))\n",
    "  ax.get_yaxis().set_major_formatter(plt.FuncFormatter(lambda y, loc: f'${y:.2f}'))\n",
    "\n",
    "  # Add labels to each sqaure:\n",
    "  for i in range(X.shape[0]):\n",
    "    for j in range(X.shape[1]):\n",
    "      plt.text(X[i, j], Y[i, j], f'${Z[i, j]:.2f}', color='black', ha='center', va='center')\n",
    "\n",
    "  plt.tight_layout()\n",
    "\n",
    "  # Save the plot:\n",
    "  plt.savefig(f'terraform_cost_{units}.png', dpi=300)\n",
    "\n",
    "  plt.show()\n",
    "\n",
    "graph(x_axis_values, y_axis_values, \"kg\")\n",
    "graph(x_axis_values, y_axis_values, \"kcf\")"
   ]
  },
  {
   "cell_type": "code",
   "execution_count": null,
   "metadata": {},
   "outputs": [],
   "source": []
  }
 ],
 "metadata": {
  "kernelspec": {
   "display_name": "python-MEJNw2yQ",
   "language": "python",
   "name": "python3"
  },
  "language_info": {
   "codemirror_mode": {
    "name": "ipython",
    "version": 3
   },
   "file_extension": ".py",
   "mimetype": "text/x-python",
   "name": "python",
   "nbconvert_exporter": "python",
   "pygments_lexer": "ipython3",
   "version": "3.12.3"
  }
 },
 "nbformat": 4,
 "nbformat_minor": 2
}
