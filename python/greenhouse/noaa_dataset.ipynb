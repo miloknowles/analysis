{
 "cells": [
  {
   "cell_type": "code",
   "execution_count": 10,
   "metadata": {},
   "outputs": [],
   "source": [
    "import pandas as pd\n",
    "import requests"
   ]
  },
  {
   "cell_type": "code",
   "execution_count": 8,
   "metadata": {},
   "outputs": [],
   "source": [
    "columns = [\n",
    "  \"Station_ID\",\n",
    "  \"Station_name\",\n",
    "  \"DATE\",\n",
    "  \"Latitude\",\n",
    "  \"Longitude\",\n",
    "  \"Elevation\",\n",
    "  \"temperature\",\n",
    "  \"wind_speed\",\n",
    "  \"relative_humidity\",\n",
    "  \"wet_bulb_temperature\",\n",
    "  \"altimeter\",\n",
    "  \"precipitation\"\n",
    "]\n",
    "\n",
    "df = pd.read_parquet('./GHCNh_AAI0000TNCA_2024.parquet', engine=\"pyarrow\", columns=columns)"
   ]
  },
  {
   "cell_type": "code",
   "execution_count": 9,
   "metadata": {},
   "outputs": [
    {
     "name": "stdout",
     "output_type": "stream",
     "text": [
      "Station_ID\n",
      "Station_name\n",
      "DATE\n",
      "Latitude\n",
      "Longitude\n",
      "Elevation\n",
      "temperature\n",
      "wind_speed\n",
      "relative_humidity\n",
      "wet_bulb_temperature\n",
      "altimeter\n",
      "precipitation\n",
      "    Station_ID        Station_name                 DATE  Latitude  Longitude  \\\n",
      "0  AAI0000TNCA  REINA BEATRIX INTL  2024-01-01T00:00:00   12.5014   -70.0152   \n",
      "1  AAI0000TNCA  REINA BEATRIX INTL  2024-01-01T01:00:00   12.5014   -70.0152   \n",
      "2  AAI0000TNCA  REINA BEATRIX INTL  2024-01-01T02:00:00   12.5014   -70.0152   \n",
      "3  AAI0000TNCA  REINA BEATRIX INTL  2024-01-01T03:00:00   12.5014   -70.0152   \n",
      "4  AAI0000TNCA  REINA BEATRIX INTL  2024-01-01T04:00:00   12.5014   -70.0152   \n",
      "\n",
      "   Elevation  temperature  wind_speed  relative_humidity  \\\n",
      "0       18.3         28.0         7.7                 74   \n",
      "1       18.3         28.0         7.2                 74   \n",
      "2       18.3         28.0         7.7                 74   \n",
      "3       18.3         28.0         8.2                 70   \n",
      "4       18.3         28.0         9.3                 74   \n",
      "\n",
      "   wet_bulb_temperature  altimeter  precipitation  \n",
      "0                  24.3     1014.0            NaN  \n",
      "1                   NaN     1015.0            NaN  \n",
      "2                   NaN     1015.0            NaN  \n",
      "3                  24.0     1015.0            NaN  \n",
      "4                   NaN     1015.0            NaN  \n"
     ]
    }
   ],
   "source": [
    "# Print out a list of columns:\n",
    "for col in df.columns:\n",
    "  print(col)\n",
    "\n",
    "# Dump the list of columns to a text file:\n",
    "# with open('ghcnh_columns.txt', 'w') as f:\n",
    "#   for col in df.columns:\n",
    "#     f.write(col + '\\n')\n",
    "\n",
    "# Print out the first 5 rows of the dataset:\n",
    "print(df.head())"
   ]
  },
  {
   "cell_type": "code",
   "execution_count": 7,
   "metadata": {},
   "outputs": [
    {
     "data": {
      "text/plain": [
       "0       2024-01-01T00:00:00\n",
       "1       2024-01-01T01:00:00\n",
       "2       2024-01-01T02:00:00\n",
       "3       2024-01-01T03:00:00\n",
       "4       2024-01-01T04:00:00\n",
       "               ...         \n",
       "8114    2024-12-05T17:00:00\n",
       "8115    2024-12-05T18:00:00\n",
       "8116    2024-12-05T19:00:00\n",
       "8117    2024-12-05T20:00:00\n",
       "8118    2024-12-05T21:00:00\n",
       "Name: DATE, Length: 8119, dtype: object"
      ]
     },
     "execution_count": 7,
     "metadata": {},
     "output_type": "execute_result"
    }
   ],
   "source": []
  },
  {
   "cell_type": "code",
   "execution_count": null,
   "metadata": {},
   "outputs": [
    {
     "name": "stdout",
     "output_type": "stream",
     "text": [
      "https://www.ncei.noaa.gov/oa/global-historical-climatology-network/hourly/access/by-year/2023/parquet/GHCNh_AGM00060371_2023.parquet.parquet\n"
     ]
    }
   ],
   "source": [
    "# https://www.ncei.noaa.gov/oa/global-historical-climatology-network/hourly/access/by-year/2023/parquet/GHCNh_AGM00060371_2023.parquet\n",
    "base_url = \"https://www.ncei.noaa.gov/oa/global-historical-climatology-network/hourly/access/by-year/{}/parquet/{}\"\n",
    "\n",
    "year = 2023\n",
    "station_id = \"AGM00060371\"\n",
    "download_filename = f\"GHCNh_{station_id}_{year}.parquet\"\n",
    "output_filename = f\"./ghcn_hourly_data/GHCNh_{station_id}_{year}.parquet\"\n",
    "\n",
    "# Download the file from the NOAA website\n",
    "url = base_url.format(year, download_filename)\n",
    "print(url)\n",
    "response = requests.get(url)\n",
    "\n",
    "# Save the file to the local directory\n",
    "with open(output_filename, 'wb') as f:\n",
    "  f.write(response.content)"
   ]
  },
  {
   "cell_type": "code",
   "execution_count": null,
   "metadata": {},
   "outputs": [],
   "source": []
  },
  {
   "cell_type": "code",
   "execution_count": null,
   "metadata": {},
   "outputs": [],
   "source": []
  }
 ],
 "metadata": {
  "kernelspec": {
   "display_name": "python-MEJNw2yQ",
   "language": "python",
   "name": "python3"
  },
  "language_info": {
   "codemirror_mode": {
    "name": "ipython",
    "version": 3
   },
   "file_extension": ".py",
   "mimetype": "text/x-python",
   "name": "python",
   "nbconvert_exporter": "python",
   "pygments_lexer": "ipython3",
   "version": "3.12.9"
  }
 },
 "nbformat": 4,
 "nbformat_minor": 2
}
