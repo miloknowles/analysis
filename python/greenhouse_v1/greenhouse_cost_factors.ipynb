{
 "cells": [
  {
   "cell_type": "code",
   "execution_count": 6,
   "metadata": {},
   "outputs": [
    {
     "name": "stdout",
     "output_type": "stream",
     "text": [
      "Energy Requirements per Degree Hour for 10,000 sqft greenhouse:\n",
      "Heating: 2.98 kWh\n",
      "Cooling: 1.32 kWh\n",
      "Energy requirements per Square Foot per degree hour:\n",
      "Heating: 0.0003 kWh/m²\n",
      "Cooling: 0.0001 kWh/m²\n",
      "Energy requirements per Square Meter per degree hour:\n",
      "Heating: 0.0032 kWh/m²\n",
      "Cooling: 0.0014 kWh/m²\n",
      "\n",
      "Cost per Degree Hour:\n",
      "Heating: $0.119\n",
      "Cooling: $0.158\n"
     ]
    }
   ],
   "source": [
    "# Constants from engineering standards\n",
    "BTU_PER_DEGREE_HOUR_PER_SQFT = 0.24  # Based on ASHRAE guidelines\n",
    "KWH_PER_BTU = 0.000293071  # Conversion factor\n",
    "\n",
    "# Greenhouse characteristics \n",
    "TYPICAL_SQFT = 10000\n",
    "TYPICAL_HEIGHT_FT = 16\n",
    "AIR_CHANGES_PER_HOUR = 1.5\n",
    "INFILTRATION_FACTOR = 1.2  # Air leakage\n",
    "GREENHOUSE_EFFECT_FACTOR = 1.3  # Additional solar gain\n",
    "\n",
    "# System efficiencies\n",
    "HEATING_SYSTEM_COP = 0.85  # Natural gas heating\n",
    "COOLING_SYSTEM_COP = 2.5  # AC system coefficient of performance\n",
    "\n",
    "# Calculate base energy needed per degree hour\n",
    "baseEnergyPerDegreeHour = BTU_PER_DEGREE_HOUR_PER_SQFT * TYPICAL_SQFT\n",
    "\n",
    "# Account for volume and air changes\n",
    "volumeEffect = TYPICAL_HEIGHT_FT * AIR_CHANGES_PER_HOUR / 8  # Normalized to typical 8ft ceiling\n",
    "adjustedEnergy = baseEnergyPerDegreeHour * volumeEffect * INFILTRATION_FACTOR\n",
    "\n",
    "# Calculate heating and cooling separately\n",
    "heatingBtuPerDegreeHour = adjustedEnergy / HEATING_SYSTEM_COP / GREENHOUSE_EFFECT_FACTOR\n",
    "coolingBtuPerDegreeHour = adjustedEnergy * GREENHOUSE_EFFECT_FACTOR / COOLING_SYSTEM_COP\n",
    "\n",
    "# Convert to kWh\n",
    "heatingKwhPerDegreeHour = heatingBtuPerDegreeHour * KWH_PER_BTU\n",
    "coolingKwhPerDegreeHour = coolingBtuPerDegreeHour * KWH_PER_BTU\n",
    "\n",
    "print(\"Energy Requirements per Degree Hour for 10,000 sqft greenhouse:\")\n",
    "print(f\"Heating: {heatingKwhPerDegreeHour:.2f} kWh\")\n",
    "print(f\"Cooling: {coolingKwhPerDegreeHour:.2f} kWh\")\n",
    "\n",
    "print(\"Energy requirements per Square Foot per degree hour:\")\n",
    "print(f\"Heating: {heatingKwhPerDegreeHour / TYPICAL_SQFT:.4f} kWh/m²\")\n",
    "print(f\"Cooling: {coolingKwhPerDegreeHour / TYPICAL_SQFT:.4f} kWh/m²\")\n",
    "\n",
    "print(\"Energy requirements per Square Meter per degree hour:\")\n",
    "print(f\"Heating: {heatingKwhPerDegreeHour / TYPICAL_SQFT * 10.7639:.4f} kWh/m²\")\n",
    "print(f\"Cooling: {coolingKwhPerDegreeHour / TYPICAL_SQFT * 10.7639:.4f} kWh/m²\")\n",
    "\n",
    "# Calculate costs using typical utility rates\n",
    "NATURAL_GAS_PER_KWH = 0.04  # $0.04 per kWh equivalent\n",
    "ELECTRICITY_PER_KWH = 0.12  # $0.12 per kWh\n",
    "\n",
    "heatingCostPerDegreeHour = heatingKwhPerDegreeHour * NATURAL_GAS_PER_KWH\n",
    "coolingCostPerDegreeHour = coolingKwhPerDegreeHour * ELECTRICITY_PER_KWH\n",
    "\n",
    "print(\"\\nCost per Degree Hour:\")\n",
    "print(f\"Heating: ${heatingCostPerDegreeHour:.3f}\")\n",
    "print(f\"Cooling: ${coolingCostPerDegreeHour:.3f}\")\n",
    "\n",
    "# # Calculate annual costs for different climate scenarios\n",
    "# TYPICAL_HEATING_DEGREE_HOURS = 40000  # Example for temperate climate\n",
    "# TYPICAL_COOLING_DEGREE_HOURS = 20000\n",
    "\n",
    "# annualHeatingCost = heatingCostPerDegreeHour * TYPICAL_HEATING_DEGREE_HOURS\n",
    "# annualCoolingCost = coolingCostPerDegreeHour * TYPICAL_COOLING_DEGREE_HOURS\n",
    "\n",
    "# print(\"\\nProjected Annual Costs:\")\n",
    "# print(f\"Heating: ${annualHeatingCost:.2f}\")\n",
    "# print(f\"Cooling: ${annualCoolingCost:.2f}\")\n",
    "# print(f\"Total: ${(annualHeatingCost + annualCoolingCost):.2f}\")\n",
    "\n",
    "# # Calculate per square foot metrics\n",
    "# print(\"\\nPer Square Foot Metrics:\")\n",
    "# print(f\"Heating: ${annualHeatingCost / TYPICAL_SQFT:.2f}/sqft/year\")\n",
    "# print(f\"Cooling: ${annualCoolingCost / TYPICAL_SQFT:.2f}/sqft/year\")"
   ]
  },
  {
   "cell_type": "code",
   "execution_count": null,
   "metadata": {},
   "outputs": [],
   "source": []
  }
 ],
 "metadata": {
  "kernelspec": {
   "display_name": "python-MEJNw2yQ",
   "language": "python",
   "name": "python3"
  },
  "language_info": {
   "codemirror_mode": {
    "name": "ipython",
    "version": 3
   },
   "file_extension": ".py",
   "mimetype": "text/x-python",
   "name": "python",
   "nbconvert_exporter": "python",
   "pygments_lexer": "ipython3",
   "version": "3.12.9"
  }
 },
 "nbformat": 4,
 "nbformat_minor": 2
}
